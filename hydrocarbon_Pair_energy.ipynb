{
 "cells": [
  {
   "cell_type": "code",
   "execution_count": null,
   "metadata": {},
   "outputs": [],
   "source": [
    "from helper_ML_pairtools import GetPairEnergies, GenerateFeatures,pair_energy, CompareLocalization\n",
    "import os\n",
    "import time\n",
    "from helper_CC_ML_spacial import *\n",
    "from helper_ML_tools import SplitFolder\n",
    "\n",
    "from sklearn.metrics import *\n",
    "import matplotlib.pyplot as plt\n",
    "import psi4\n"
   ]
  },
  {
   "cell_type": "code",
   "execution_count": null,
   "metadata": {},
   "outputs": [],
   "source": [
    "# User defined example name\n",
    "Calc_name='example_name'\n",
    "\n",
    "# Path to the xyz coordinates with subfiles for train and test data\n",
    "Folder='xyz_str/'\n",
    "\n",
    "# Run using Pipek-Mezey localization and the STO-3G basis set considering only 10 of the excitations for each pair-energy\n",
    "ML=pair_energy(Folder+'train/',test_folder=Folder+'test/', loc_occ='PM', loc_vir='PM', Triples=False, basis='STO-3G', values=10)# cutoff=1e-5,)\n",
    "\n"
   ]
  },
  {
   "cell_type": "code",
   "execution_count": null,
   "metadata": {
    "tags": []
   },
   "outputs": [],
   "source": [
    "# Run the machine learning \n",
    "ML.test_folder=Folder+'test/'\n",
    "\n",
    "ML.calculate_train()\n",
    "\n",
    "ML.train_model()\n",
    "\n",
    "a,b,c,d=ML.test()"
   ]
  },
  {
   "cell_type": "code",
   "execution_count": null,
   "metadata": {},
   "outputs": [],
   "source": [
    "\n",
    "plt.scatter(df['True Energy'],df['Predicted Energy'])\n",
    "plt.title(r'R$^{2}$'+f\"={r2_score(df['True Energy'],df['Predicted Energy']):.4f}\")\n",
    "plt.xlabel(r'True Correlation Energy (E$_{h}$)')\n",
    "plt.ylabel(r'Predicted Correlation Energy (E$_{h}$)')\n",
    "plt.show()"
   ]
  },
  {
   "cell_type": "code",
   "execution_count": null,
   "metadata": {},
   "outputs": [],
   "source": []
  }
 ],
 "metadata": {
  "kernelspec": {
   "display_name": "ddqc_demo",
   "language": "python",
   "name": "ddqc_demo"
  },
  "language_info": {
   "codemirror_mode": {
    "name": "ipython",
    "version": 3
   },
   "file_extension": ".py",
   "mimetype": "text/x-python",
   "name": "python",
   "nbconvert_exporter": "python",
   "pygments_lexer": "ipython3",
   "version": "3.8.1"
  }
 },
 "nbformat": 4,
 "nbformat_minor": 4
}
